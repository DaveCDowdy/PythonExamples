{
 "cells": [
  {
   "cell_type": "code",
   "execution_count": null,
   "id": "d60b9bdf-4c8a-4afe-b14b-f6b3f6db7184",
   "metadata": {},
   "outputs": [],
   "source": [
    "list_original = [1,2,3]\n",
    "list_new = list_original[:]\n",
    "l"
   ]
  }
 ],
 "metadata": {
  "kernelspec": {
   "display_name": "Python 3 (ipykernel)",
   "language": "python",
   "name": "python3"
  },
  "language_info": {
   "codemirror_mode": {
    "name": "ipython",
    "version": 3
   },
   "file_extension": ".py",
   "mimetype": "text/x-python",
   "name": "python",
   "nbconvert_exporter": "python",
   "pygments_lexer": "ipython3",
   "version": "3.11.7"
  }
 },
 "nbformat": 4,
 "nbformat_minor": 5
}

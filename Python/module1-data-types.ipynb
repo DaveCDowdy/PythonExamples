{
 "cells": [
  {
   "cell_type": "code",
   "execution_count": null,
   "id": "d39226a0-626d-422e-8545-997f907a5af7",
   "metadata": {},
   "outputs": [],
   "source": [
    "age = 35"
   ]
  },
  {
   "cell_type": "code",
   "execution_count": null,
   "id": "1a5aa02f-1d51-4b76-811a-312bd8824c5f",
   "metadata": {},
   "outputs": [],
   "source": [
    "speed1 = 4.5\n",
    "speed2 = 4.0\n",
    "speed3 = 4."
   ]
  },
  {
   "cell_type": "code",
   "execution_count": 1,
   "id": "ef812b77-9865-411c-a137-fcf00cb6785b",
   "metadata": {},
   "outputs": [],
   "source": [
    "am_i_ugly = True"
   ]
  },
  {
   "cell_type": "code",
   "execution_count": null,
   "id": "104ef6a1-0069-49b6-a5a2-ae00e8b795db",
   "metadata": {},
   "outputs": [],
   "source": []
  }
 ],
 "metadata": {
  "kernelspec": {
   "display_name": "Python 3 (ipykernel)",
   "language": "python",
   "name": "python3"
  },
  "language_info": {
   "codemirror_mode": {
    "name": "ipython",
    "version": 3
   },
   "file_extension": ".py",
   "mimetype": "text/x-python",
   "name": "python",
   "nbconvert_exporter": "python",
   "pygments_lexer": "ipython3",
   "version": "3.11.7"
  }
 },
 "nbformat": 4,
 "nbformat_minor": 5
}

{
 "cells": [
  {
   "cell_type": "code",
   "execution_count": 3,
   "id": "d9e016d9-878f-4eb5-ae3b-66ecc4bddb28",
   "metadata": {},
   "outputs": [
    {
     "name": "stdout",
     "output_type": "stream",
     "text": [
      "0\n"
     ]
    }
   ],
   "source": [
    "# & means both must be 1 to see 1\n",
    "first_bit = 1\n",
    "second_bit = 0\n",
    "\n",
    "print(first_bit & second_bit)"
   ]
  },
  {
   "cell_type": "code",
   "execution_count": 8,
   "id": "b33ced89-c2ff-4f88-8d3a-db4278d18e5f",
   "metadata": {},
   "outputs": [
    {
     "name": "stdout",
     "output_type": "stream",
     "text": [
      "1\n"
     ]
    }
   ],
   "source": [
    "# | means or will see 1 if either is 1\n",
    "first_bit = 0\n",
    "second_bit = 1\n",
    "\n",
    "print(first_bit | second_bit)"
   ]
  },
  {
   "cell_type": "code",
   "execution_count": 9,
   "id": "b7c4b47c-e3f8-4333-acd7-e0e648dc3954",
   "metadata": {},
   "outputs": [
    {
     "name": "stdout",
     "output_type": "stream",
     "text": [
      "1\n"
     ]
    }
   ],
   "source": [
    "# ^ exclusive or \n",
    "first_bit = 0\n",
    "second_bit = 1\n",
    "\n",
    "print(first_bit ^ second_bit)"
   ]
  },
  {
   "cell_type": "code",
   "execution_count": 10,
   "id": "5bcf8640-ab40-4412-b8e4-f4a55ba48747",
   "metadata": {},
   "outputs": [
    {
     "name": "stdout",
     "output_type": "stream",
     "text": [
      "-1\n"
     ]
    }
   ],
   "source": [
    "#negator\n",
    "print(~0)"
   ]
  },
  {
   "cell_type": "code",
   "execution_count": 12,
   "id": "538e18cd-1909-480b-9920-12d731212efb",
   "metadata": {},
   "outputs": [
    {
     "data": {
      "text/plain": [
       "24"
      ]
     },
     "execution_count": 12,
     "metadata": {},
     "output_type": "execute_result"
    }
   ],
   "source": [
    "#shift\n",
    "12 << 1"
   ]
  },
  {
   "cell_type": "code",
   "execution_count": null,
   "id": "8241d5fa-96de-4f5c-a690-57c5e10f7917",
   "metadata": {},
   "outputs": [],
   "source": []
  }
 ],
 "metadata": {
  "kernelspec": {
   "display_name": "Python 3 (ipykernel)",
   "language": "python",
   "name": "python3"
  },
  "language_info": {
   "codemirror_mode": {
    "name": "ipython",
    "version": 3
   },
   "file_extension": ".py",
   "mimetype": "text/x-python",
   "name": "python",
   "nbconvert_exporter": "python",
   "pygments_lexer": "ipython3",
   "version": "3.11.7"
  }
 },
 "nbformat": 4,
 "nbformat_minor": 5
}

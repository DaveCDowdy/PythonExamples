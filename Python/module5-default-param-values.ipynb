{
 "cells": [
  {
   "cell_type": "code",
   "execution_count": 1,
   "id": "0611aa50-ad94-4353-83c8-95857ae07eef",
   "metadata": {},
   "outputs": [],
   "source": [
    "def print_letter_count(text='This is default text', letter='a'):\n",
    "    counter = 0\n",
    "    for char in text:\n",
    "        if char == letter:\n",
    "            counter += 1\n",
    "    print('Number of', letter, 'is', counter)"
   ]
  },
  {
   "cell_type": "code",
   "execution_count": 2,
   "id": "2f26ee35-c11a-401a-a033-1829d5d55e6f",
   "metadata": {},
   "outputs": [
    {
     "name": "stdout",
     "output_type": "stream",
     "text": [
      "Number of a is 1\n"
     ]
    }
   ],
   "source": [
    "print_letter_count()"
   ]
  },
  {
   "cell_type": "code",
   "execution_count": 3,
   "id": "2b4a51f3-d2b7-45ce-845a-c67339c3ad08",
   "metadata": {},
   "outputs": [
    {
     "name": "stdout",
     "output_type": "stream",
     "text": [
      "Number of y is 0\n"
     ]
    }
   ],
   "source": [
    "print_letter_count(letter='y')"
   ]
  },
  {
   "cell_type": "code",
   "execution_count": 4,
   "id": "0e941a36-d2ec-4f19-ba58-9277a962ff86",
   "metadata": {},
   "outputs": [
    {
     "name": "stdout",
     "output_type": "stream",
     "text": [
      "Number of a is 12\n"
     ]
    }
   ],
   "source": [
    "print_letter_count(text='defaaaaaaaaaaaault')"
   ]
  },
  {
   "cell_type": "code",
   "execution_count": null,
   "id": "23d879e5-6315-471c-b1fe-37d799cc69a5",
   "metadata": {},
   "outputs": [],
   "source": []
  }
 ],
 "metadata": {
  "kernelspec": {
   "display_name": "Python 3 (ipykernel)",
   "language": "python",
   "name": "python3"
  },
  "language_info": {
   "codemirror_mode": {
    "name": "ipython",
    "version": 3
   },
   "file_extension": ".py",
   "mimetype": "text/x-python",
   "name": "python",
   "nbconvert_exporter": "python",
   "pygments_lexer": "ipython3",
   "version": "3.11.7"
  }
 },
 "nbformat": 4,
 "nbformat_minor": 5
}

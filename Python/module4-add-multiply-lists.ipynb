{
 "cells": [
  {
   "cell_type": "code",
   "execution_count": 2,
   "id": "84261ba1-afe7-46cf-bd71-af96f72f04b3",
   "metadata": {},
   "outputs": [
    {
     "name": "stdout",
     "output_type": "stream",
     "text": [
      "['NYC', 'CHI', 'LON', 'BRI']\n"
     ]
    }
   ],
   "source": [
    "list_us = ['NYC', 'CHI']\n",
    "list_uk = ['LON', 'BRI']\n",
    "list_all = list_us + list_uk\n",
    "print(list_all)"
   ]
  },
  {
   "cell_type": "code",
   "execution_count": null,
   "id": "ac6055d2-780b-4262-8bc4-d09a95ad78fd",
   "metadata": {},
   "outputs": [],
   "source": [
    "list_numbers = [0, 1] * 1-\n",
    "print("
   ]
  }
 ],
 "metadata": {
  "kernelspec": {
   "display_name": "Python 3 (ipykernel)",
   "language": "python",
   "name": "python3"
  },
  "language_info": {
   "codemirror_mode": {
    "name": "ipython",
    "version": 3
   },
   "file_extension": ".py",
   "mimetype": "text/x-python",
   "name": "python",
   "nbconvert_exporter": "python",
   "pygments_lexer": "ipython3",
   "version": "3.11.7"
  }
 },
 "nbformat": 4,
 "nbformat_minor": 5
}

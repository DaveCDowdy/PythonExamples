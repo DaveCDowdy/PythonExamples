{
 "cells": [
  {
   "cell_type": "code",
   "execution_count": 8,
   "id": "3f3214ec-342e-44f2-a05f-fc0acb5f5720",
   "metadata": {},
   "outputs": [
    {
     "name": "stdout",
     "output_type": "stream",
     "text": [
      "1\n",
      "2\n",
      "3\n",
      "4\n",
      "5\n",
      "6\n",
      "7\n",
      "8\n",
      "9\n",
      "10\n",
      "Finished\n"
     ]
    }
   ],
   "source": [
    "counter = 1\n",
    "while counter < 11:\n",
    "    print(counter)\n",
    "    counter+= 1 #must handle the counter to prevent an infinite loop\n",
    "print('Finished')"
   ]
  },
  {
   "cell_type": "code",
   "execution_count": null,
   "id": "2f5e95b7-ee73-4020-88f6-23ba1434edd5",
   "metadata": {},
   "outputs": [],
   "source": [
    "secret_number = 14\n",
    "user_input = int(input('Try to guess the secret number from 0 to 20: '))\n",
    "while user_input != secret_number:\n",
    "    print('Wrong!')\n",
    "    user_input = int(input('Try to guess the secret number from 0 to 20: '))\n",
    "print('Perfect! You have guessed the secret number.')"
   ]
  },
  {
   "cell_type": "code",
   "execution_count": null,
   "id": "1c5fceb0-ce72-4451-86b8-dfaf929d63b6",
   "metadata": {},
   "outputs": [],
   "source": []
  }
 ],
 "metadata": {
  "kernelspec": {
   "display_name": "Python 3 (ipykernel)",
   "language": "python",
   "name": "python3"
  },
  "language_info": {
   "codemirror_mode": {
    "name": "ipython",
    "version": 3
   },
   "file_extension": ".py",
   "mimetype": "text/x-python",
   "name": "python",
   "nbconvert_exporter": "python",
   "pygments_lexer": "ipython3",
   "version": "3.11.7"
  }
 },
 "nbformat": 4,
 "nbformat_minor": 5
}

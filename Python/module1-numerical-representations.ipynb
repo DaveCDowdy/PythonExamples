{
 "cells": [
  {
   "cell_type": "code",
   "execution_count": null,
   "id": "cab04813-c63b-4a56-a1ed-f2f4614304a9",
   "metadata": {},
   "outputs": [],
   "source": [
    "#Can use underscores to improve readability\n",
    "12000300\n",
    "12_000_300"
   ]
  },
  {
   "cell_type": "code",
   "execution_count": 2,
   "id": "2bdd42ae-fb40-4d83-b49b-cffc39c8d553",
   "metadata": {},
   "outputs": [
    {
     "name": "stdout",
     "output_type": "stream",
     "text": [
      "30000.0\n",
      "30000\n"
     ]
    }
   ],
   "source": [
    "#Scientific notation possible as well\n",
    "exponent = 3e4\n",
    "print(exponent)\n",
    "longForm = 3 * 10000\n",
    "print(longForm)\n"
   ]
  },
  {
   "cell_type": "code",
   "execution_count": 3,
   "id": "a70ce226-80a5-4796-83e6-44159313e89c",
   "metadata": {},
   "outputs": [
    {
     "name": "stdout",
     "output_type": "stream",
     "text": [
      "83\n"
     ]
    }
   ],
   "source": [
    "#Octal numbers\n",
    "# start with 0O or 0o\n",
    "print(0o123)"
   ]
  },
  {
   "cell_type": "code",
   "execution_count": null,
   "id": "109e082c-27ee-4f14-adad-5573787e1d0a",
   "metadata": {},
   "outputs": [],
   "source": []
  }
 ],
 "metadata": {
  "kernelspec": {
   "display_name": "Python 3 (ipykernel)",
   "language": "python",
   "name": "python3"
  },
  "language_info": {
   "codemirror_mode": {
    "name": "ipython",
    "version": 3
   },
   "file_extension": ".py",
   "mimetype": "text/x-python",
   "name": "python",
   "nbconvert_exporter": "python",
   "pygments_lexer": "ipython3",
   "version": "3.11.7"
  }
 },
 "nbformat": 4,
 "nbformat_minor": 5
}

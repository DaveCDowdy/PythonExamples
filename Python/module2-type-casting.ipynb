{
 "cells": [
  {
   "cell_type": "code",
   "execution_count": 7,
   "id": "202a8a9f-4094-484b-9cdb-57a88f3a46cb",
   "metadata": {},
   "outputs": [
    {
     "name": "stdin",
     "output_type": "stream",
     "text": [
      "Height converter: enter your height in cm:  200\n"
     ]
    },
    {
     "name": "stdout",
     "output_type": "stream",
     "text": [
      "your height in feet is: 6.561679790026247\n"
     ]
    }
   ],
   "source": [
    "height_cm = input('Height converter: enter your height in cm: ')\n",
    "float_height_cm = float(height_cm)\n",
    "print('your height in feet is:', float_height_cm / 30.48)"
   ]
  },
  {
   "cell_type": "code",
   "execution_count": 8,
   "id": "359b4849-b6df-46c3-90cb-36589ea4f6e1",
   "metadata": {},
   "outputs": [
    {
     "name": "stdin",
     "output_type": "stream",
     "text": [
      "Height converter: enter your height in cm:  200\n"
     ]
    },
    {
     "name": "stdout",
     "output_type": "stream",
     "text": [
      "your height in feet is: 6.561679790026247\n"
     ]
    }
   ],
   "source": [
    "height_cm = float(input('Height converter: enter your height in cm: '))\n",
    "print('your height in feet is:', float_height_cm / 30.48)"
   ]
  },
  {
   "cell_type": "code",
   "execution_count": 10,
   "id": "98406c30-d437-4ce2-b63b-aee337e060b8",
   "metadata": {},
   "outputs": [
    {
     "name": "stdin",
     "output_type": "stream",
     "text": [
      "What year were you born? 1982\n"
     ]
    },
    {
     "name": "stdout",
     "output_type": "stream",
     "text": [
      "in 2100, you will be 118 yearsold, provided you live this long!\n"
     ]
    }
   ],
   "source": [
    "year_born = int(input('What year were you born?'))\n",
    "print('in 2100, you will be', 2100 - year_born, 'yearsold, provided you live this long!')"
   ]
  },
  {
   "cell_type": "code",
   "execution_count": 14,
   "id": "dd47d0f4-9c0c-4bf1-8488-c7fa0d98ca27",
   "metadata": {},
   "outputs": [
    {
     "name": "stdin",
     "output_type": "stream",
     "text": [
      "Enter the temperature today in Celsius degrees:  0\n"
     ]
    },
    {
     "name": "stdout",
     "output_type": "stream",
     "text": [
      "0 degrees Celsius equals 32.0 degrees Farenheight\n"
     ]
    }
   ],
   "source": [
    "temp_c = input('Enter the temperature today in Celsius degrees: ')\n",
    "temp_f = float(temp_c) * 1.8 + 32\n",
    "temp_statement = str(temp_c) + ' degrees Celsius equals ' +str(temp_f) + ' degrees Farenheight'\n",
    "print(temp_statement)"
   ]
  },
  {
   "cell_type": "code",
   "execution_count": null,
   "id": "82f4d595-50c2-468e-9de9-766192abfd8b",
   "metadata": {},
   "outputs": [],
   "source": []
  }
 ],
 "metadata": {
  "kernelspec": {
   "display_name": "Python 3 (ipykernel)",
   "language": "python",
   "name": "python3"
  },
  "language_info": {
   "codemirror_mode": {
    "name": "ipython",
    "version": 3
   },
   "file_extension": ".py",
   "mimetype": "text/x-python",
   "name": "python",
   "nbconvert_exporter": "python",
   "pygments_lexer": "ipython3",
   "version": "3.11.7"
  }
 },
 "nbformat": 4,
 "nbformat_minor": 5
}

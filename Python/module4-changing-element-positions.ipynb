{
 "cells": [
  {
   "cell_type": "code",
   "execution_count": 1,
   "id": "54622be4-1c75-4b69-ac28-79ea70aad107",
   "metadata": {},
   "outputs": [
    {
     "name": "stdin",
     "output_type": "stream",
     "text": [
      "Enter first number:  10\n",
      "Enter second number:  20\n"
     ]
    },
    {
     "name": "stdout",
     "output_type": "stream",
     "text": [
      "Before swap: 10 20\n",
      "After swap: 20 10\n"
     ]
    }
   ],
   "source": [
    "first = input('Enter first number: ')\n",
    "second = input('Enter second number: ')\n",
    "print('Before swap:', first, second)\n",
    "first, second = second, first\n",
    "print('After swap:', first, second)"
   ]
  },
  {
   "cell_type": "code",
   "execution_count": 2,
   "id": "10d4902c-e882-4d44-a0ad-63620c7d0c0e",
   "metadata": {},
   "outputs": [
    {
     "name": "stdout",
     "output_type": "stream",
     "text": [
      "['PHX', 'LA', 'CHI', 'HOU', 'NYC']\n"
     ]
    }
   ],
   "source": [
    "top_cities = ['NYC', 'LA', 'CHI', 'HOU', 'PHX']\n",
    "top_cities[0], top_cities[4] = top_cities[4], top_cities[0]\n",
    "print(top_cities)"
   ]
  },
  {
   "cell_type": "code",
   "execution_count": 3,
   "id": "de73d577-6fe4-4bc2-b6c3-683a8bca151e",
   "metadata": {},
   "outputs": [
    {
     "name": "stdout",
     "output_type": "stream",
     "text": [
      "['CHI', 'HOU', 'LA', 'NYC', 'PHX']\n"
     ]
    }
   ],
   "source": [
    "top_cities = ['NYC', 'LA', 'CHI', 'HOU', 'PHX']\n",
    "top_cities.sort()\n",
    "print(top_cities)"
   ]
  },
  {
   "cell_type": "code",
   "execution_count": 4,
   "id": "a94ac426-93a5-4d95-8804-328f7babbda1",
   "metadata": {},
   "outputs": [
    {
     "name": "stdout",
     "output_type": "stream",
     "text": [
      "[-3, 0, 2, 4, 5]\n"
     ]
    }
   ],
   "source": [
    "random_numbers = [2, 5, 0, -3, 4]\n",
    "random_numbers.sort()\n",
    "print(random_numbers)"
   ]
  },
  {
   "cell_type": "code",
   "execution_count": 5,
   "id": "80309622-c94b-421b-9b9b-2bc06983cfcf",
   "metadata": {},
   "outputs": [
    {
     "name": "stdout",
     "output_type": "stream",
     "text": [
      "[5, 4, 2, 0, -3]\n"
     ]
    }
   ],
   "source": [
    "random_numbers = [2, 5, 0, -3, 4]\n",
    "random_numbers.sort(reverse=True)\n",
    "print(random_numbers)"
   ]
  },
  {
   "cell_type": "code",
   "execution_count": 6,
   "id": "43ca6c1c-25c7-449f-90ef-11fffd30296d",
   "metadata": {},
   "outputs": [
    {
     "name": "stdout",
     "output_type": "stream",
     "text": [
      "['CHI', 'HOU', 'LA', 'NYC', 'PHX']\n",
      "['NYC', 'LA', 'CHI', 'HOU', 'PHX']\n"
     ]
    }
   ],
   "source": [
    "top_cities = ['NYC', 'LA', 'CHI', 'HOU', 'PHX']\n",
    "print(sorted(top_cities))\n",
    "print(top_cities)"
   ]
  },
  {
   "cell_type": "code",
   "execution_count": null,
   "id": "05aa178d-aa26-482a-94f0-3d80f6b19875",
   "metadata": {},
   "outputs": [],
   "source": []
  }
 ],
 "metadata": {
  "kernelspec": {
   "display_name": "Python 3 (ipykernel)",
   "language": "python",
   "name": "python3"
  },
  "language_info": {
   "codemirror_mode": {
    "name": "ipython",
    "version": 3
   },
   "file_extension": ".py",
   "mimetype": "text/x-python",
   "name": "python",
   "nbconvert_exporter": "python",
   "pygments_lexer": "ipython3",
   "version": "3.11.7"
  }
 },
 "nbformat": 4,
 "nbformat_minor": 5
}

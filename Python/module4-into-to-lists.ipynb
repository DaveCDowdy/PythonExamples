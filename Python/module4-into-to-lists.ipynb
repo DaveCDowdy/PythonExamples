{
 "cells": [
  {
   "cell_type": "code",
   "execution_count": 3,
   "id": "e9506b77-d412-43e8-bc92-30565c4e772c",
   "metadata": {},
   "outputs": [
    {
     "name": "stdout",
     "output_type": "stream",
     "text": [
      "['New York City', 'Los Angeles', 'Chicago', 'Houston', 'Russellville']\n",
      "New York City\n"
     ]
    }
   ],
   "source": [
    "empty_list = []\n",
    "top_cities = ['New York City', 'Los Angeles', 'Chicago', 'Houston', 'Russellville']\n",
    "print(top_cities)\n",
    "print(top_cities[0])"
   ]
  },
  {
   "cell_type": "code",
   "execution_count": 4,
   "id": "03554132-bbf5-4399-9784-069729b1e8b5",
   "metadata": {},
   "outputs": [
    {
     "name": "stdout",
     "output_type": "stream",
     "text": [
      "Houston\n"
     ]
    }
   ],
   "source": [
    "#reverse indexing\n",
    "print(top_cities[-2])"
   ]
  },
  {
   "cell_type": "code",
   "execution_count": 9,
   "id": "dadfc0da-6021-4d19-9011-a351d8f1fb90",
   "metadata": {},
   "outputs": [
    {
     "data": {
      "text/plain": [
       "['New York City', 'Los Angeles']"
      ]
     },
     "execution_count": 9,
     "metadata": {},
     "output_type": "execute_result"
    }
   ],
   "source": [
    "#index slicing\n",
    "top_cities[0:2]"
   ]
  },
  {
   "cell_type": "code",
   "execution_count": 8,
   "id": "c3dec9c1-ffbb-45bf-966f-7cbbb03dfdba",
   "metadata": {},
   "outputs": [
    {
     "data": {
      "text/plain": [
       "['Chicago', 'Houston', 'Russellville']"
      ]
     },
     "execution_count": 8,
     "metadata": {},
     "output_type": "execute_result"
    }
   ],
   "source": [
    "top_cities[2:]"
   ]
  },
  {
   "cell_type": "code",
   "execution_count": 10,
   "id": "1ee68e19-294b-45d0-aef7-9631805aa7bb",
   "metadata": {},
   "outputs": [
    {
     "data": {
      "text/plain": [
       "['New York City', 'Los Angeles', 'Chicago']"
      ]
     },
     "execution_count": 10,
     "metadata": {},
     "output_type": "execute_result"
    }
   ],
   "source": [
    "top_cities[:3]"
   ]
  },
  {
   "cell_type": "code",
   "execution_count": null,
   "id": "ad8db3b3-17b0-4855-a0bb-dc435b7c8ac3",
   "metadata": {},
   "outputs": [],
   "source": []
  }
 ],
 "metadata": {
  "kernelspec": {
   "display_name": "Python 3 (ipykernel)",
   "language": "python",
   "name": "python3"
  },
  "language_info": {
   "codemirror_mode": {
    "name": "ipython",
    "version": 3
   },
   "file_extension": ".py",
   "mimetype": "text/x-python",
   "name": "python",
   "nbconvert_exporter": "python",
   "pygments_lexer": "ipython3",
   "version": "3.11.7"
  }
 },
 "nbformat": 4,
 "nbformat_minor": 5
}

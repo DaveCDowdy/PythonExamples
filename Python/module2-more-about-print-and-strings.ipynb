{
 "cells": [
  {
   "cell_type": "code",
   "execution_count": 1,
   "id": "40268167-1824-4f1a-8ba6-fb19caafee4b",
   "metadata": {},
   "outputs": [
    {
     "data": {
      "text/plain": [
       "6"
      ]
     },
     "execution_count": 1,
     "metadata": {},
     "output_type": "execute_result"
    }
   ],
   "source": [
    "len('Hello!')"
   ]
  },
  {
   "cell_type": "code",
   "execution_count": 2,
   "id": "eb839750-b61b-4c8b-a761-ea955d70863a",
   "metadata": {},
   "outputs": [
    {
     "name": "stdout",
     "output_type": "stream",
     "text": [
      "Hello, World!\n",
      "Python speaking!\n"
     ]
    }
   ],
   "source": [
    "print('Hello, World!')\n",
    "print('Python speaking!')"
   ]
  },
  {
   "cell_type": "code",
   "execution_count": 4,
   "id": "415c35cc-6727-4d5f-8070-37ac1e11acd0",
   "metadata": {},
   "outputs": [
    {
     "name": "stdout",
     "output_type": "stream",
     "text": [
      "Hello, World!. Python speaking!\n"
     ]
    }
   ],
   "source": [
    "print('Hello, World!', end='. ')\n",
    "print('Python speaking!')"
   ]
  },
  {
   "cell_type": "code",
   "execution_count": null,
   "id": "ba6af364-91e1-49ea-889c-3a43a835c9df",
   "metadata": {},
   "outputs": [],
   "source": [
    "first_name = 'John'\n",
    "print('Your first name is', first_name, "
   ]
  }
 ],
 "metadata": {
  "kernelspec": {
   "display_name": "Python 3 (ipykernel)",
   "language": "python",
   "name": "python3"
  },
  "language_info": {
   "codemirror_mode": {
    "name": "ipython",
    "version": 3
   },
   "file_extension": ".py",
   "mimetype": "text/x-python",
   "name": "python",
   "nbconvert_exporter": "python",
   "pygments_lexer": "ipython3",
   "version": "3.11.7"
  }
 },
 "nbformat": 4,
 "nbformat_minor": 5
}

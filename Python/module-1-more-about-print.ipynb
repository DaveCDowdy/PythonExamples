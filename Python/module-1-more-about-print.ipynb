{
 "cells": [
  {
   "cell_type": "code",
   "execution_count": 1,
   "id": "43b7220c-7556-4b38-885d-fc5779a9838d",
   "metadata": {},
   "outputs": [
    {
     "ename": "NameError",
     "evalue": "name 'prnt' is not defined",
     "output_type": "error",
     "traceback": [
      "\u001b[0;31m---------------------------------------------------------------------------\u001b[0m",
      "\u001b[0;31mNameError\u001b[0m                                 Traceback (most recent call last)",
      "Cell \u001b[0;32mIn[1], line 1\u001b[0m\n\u001b[0;32m----> 1\u001b[0m prnt(\u001b[38;5;124m'\u001b[39m\u001b[38;5;124mHello\u001b[39m\u001b[38;5;124m'\u001b[39m)\n",
      "\u001b[0;31mNameError\u001b[0m: name 'prnt' is not defined"
     ]
    }
   ],
   "source": [
    "prnt('Hello')"
   ]
  },
  {
   "cell_type": "code",
   "execution_count": 2,
   "id": "1bde1b7c-b964-4a8f-8a9a-e29dfeda3371",
   "metadata": {},
   "outputs": [
    {
     "name": "stdout",
     "output_type": "stream",
     "text": [
      "Hello!\n"
     ]
    }
   ],
   "source": [
    "print('Hello!')"
   ]
  },
  {
   "cell_type": "code",
   "execution_count": 3,
   "id": "02dcaf61-f019-45d9-94ec-b60ab5b28019",
   "metadata": {},
   "outputs": [
    {
     "name": "stdout",
     "output_type": "stream",
     "text": [
      "I'm studying python\n"
     ]
    }
   ],
   "source": [
    "print(\"I'm studying python\")"
   ]
  },
  {
   "cell_type": "code",
   "execution_count": 4,
   "id": "daeb9715-546c-4931-9f87-bc6be60c0b37",
   "metadata": {},
   "outputs": [
    {
     "name": "stdout",
     "output_type": "stream",
     "text": [
      "I'm studying Python\n"
     ]
    }
   ],
   "source": [
    "print('I\\'m studying Python')"
   ]
  },
  {
   "cell_type": "code",
   "execution_count": 6,
   "id": "6ea12f92-a2b2-47dc-b294-00799fe8ed10",
   "metadata": {},
   "outputs": [
    {
     "name": "stdout",
     "output_type": "stream",
     "text": [
      "I'm studying Python\n",
      "and having fun!\n"
     ]
    }
   ],
   "source": [
    "print('I\\'m studying Python')\n",
    "print('and having fun!')"
   ]
  },
  {
   "cell_type": "code",
   "execution_count": 7,
   "id": "9676e253-9628-4460-b4b0-0bd34acb9865",
   "metadata": {},
   "outputs": [
    {
     "name": "stdout",
     "output_type": "stream",
     "text": [
      "I'm studying Python and having fun!\n"
     ]
    }
   ],
   "source": [
    "print('I\\'m studying Python', 'and having fun!')"
   ]
  },
  {
   "cell_type": "code",
   "execution_count": null,
   "id": "b1528507-e26a-49d0-a0ea-a80d79c11bdc",
   "metadata": {},
   "outputs": [],
   "source": []
  }
 ],
 "metadata": {
  "kernelspec": {
   "display_name": "Python 3 (ipykernel)",
   "language": "python",
   "name": "python3"
  },
  "language_info": {
   "codemirror_mode": {
    "name": "ipython",
    "version": 3
   },
   "file_extension": ".py",
   "mimetype": "text/x-python",
   "name": "python",
   "nbconvert_exporter": "python",
   "pygments_lexer": "ipython3",
   "version": "3.11.7"
  }
 },
 "nbformat": 4,
 "nbformat_minor": 5
}

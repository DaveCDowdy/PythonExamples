{
 "cells": [
  {
   "cell_type": "code",
   "execution_count": 2,
   "id": "02ca4be3-a02b-4d9b-8e21-d98562321ad8",
   "metadata": {},
   "outputs": [],
   "source": [
    "for i in range(11):\n",
    "    pass #can be used as placeholder while figuring out logic"
   ]
  },
  {
   "cell_type": "code",
   "execution_count": 3,
   "id": "7b2ed32f-21b2-4906-8622-0c6f025d7e53",
   "metadata": {},
   "outputs": [
    {
     "name": "stdout",
     "output_type": "stream",
     "text": [
      "1 x 1 = 1\n",
      "1 x 2 = 2\n",
      "1 x 3 = 3\n",
      "1 x 4 = 4\n",
      "1 x 5 = 5\n",
      "2 x 1 = 2\n",
      "2 x 2 = 4\n",
      "2 x 3 = 6\n",
      "2 x 4 = 8\n",
      "2 x 5 = 10\n",
      "3 x 1 = 3\n",
      "3 x 2 = 6\n",
      "3 x 3 = 9\n",
      "3 x 4 = 12\n",
      "3 x 5 = 15\n",
      "4 x 1 = 4\n",
      "4 x 2 = 8\n",
      "4 x 3 = 12\n",
      "4 x 4 = 16\n",
      "4 x 5 = 20\n",
      "5 x 1 = 5\n",
      "5 x 2 = 10\n",
      "5 x 3 = 15\n",
      "5 x 4 = 20\n",
      "5 x 5 = 25\n"
     ]
    }
   ],
   "source": [
    "for a in range(1,6):\n",
    "    for b in range(1,6):\n",
    "        print(a, 'x', b, '=', a * b)"
   ]
  },
  {
   "cell_type": "code",
   "execution_count": 4,
   "id": "716f9a44-ec55-44ec-915f-db0e9e28c901",
   "metadata": {},
   "outputs": [
    {
     "ename": "SyntaxError",
     "evalue": "invalid syntax (349642382.py, line 6)",
     "output_type": "error",
     "traceback": [
      "\u001b[0;36m  Cell \u001b[0;32mIn[4], line 6\u001b[0;36m\u001b[0m\n\u001b[0;31m    else:\u001b[0m\n\u001b[0m    ^\u001b[0m\n\u001b[0;31mSyntaxError\u001b[0m\u001b[0;31m:\u001b[0m invalid syntax\n"
     ]
    }
   ],
   "source": [
    "choice = int(input('Pick a number: '))\n",
    "if choice == 3:\n",
    "    print('Good choice')\n",
    "else:\n",
    "    print('You could have chosen better')\n",
    "else:\n",
    "    print('No luck this time')"
   ]
  },
  {
   "cell_type": "code",
   "execution_count": null,
   "id": "366512fb-341a-4c44-8164-979148fe8bbe",
   "metadata": {},
   "outputs": [],
   "source": []
  }
 ],
 "metadata": {
  "kernelspec": {
   "display_name": "Python 3 (ipykernel)",
   "language": "python",
   "name": "python3"
  },
  "language_info": {
   "codemirror_mode": {
    "name": "ipython",
    "version": 3
   },
   "file_extension": ".py",
   "mimetype": "text/x-python",
   "name": "python",
   "nbconvert_exporter": "python",
   "pygments_lexer": "ipython3",
   "version": "3.11.7"
  }
 },
 "nbformat": 4,
 "nbformat_minor": 5
}

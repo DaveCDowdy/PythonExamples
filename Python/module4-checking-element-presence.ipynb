{
 "cells": [
  {
   "cell_type": "code",
   "execution_count": 3,
   "id": "f11dccd4-48c2-480f-8f79-f5cc0554678e",
   "metadata": {},
   "outputs": [
    {
     "name": "stdin",
     "output_type": "stream",
     "text": [
      "What is your name?  Kate\n"
     ]
    },
    {
     "name": "stdout",
     "output_type": "stream",
     "text": [
      "Welcome!\n"
     ]
    }
   ],
   "source": [
    "invited_guests = ['Kate', 'Adam', 'Kerry', 'Joe', 'Anne', 'Marie']\n",
    "name = input('What is your name? ')\n",
    "if name in invited_guests:\n",
    "    print('Welcome!')\n",
    "else: \n",
    "    print('You are not invited!')"
   ]
  },
  {
   "cell_type": "code",
   "execution_count": null,
   "id": "5244dd3a-d8af-48f4-86cd-95e360f5a8bb",
   "metadata": {},
   "outputs": [],
   "source": []
  }
 ],
 "metadata": {
  "kernelspec": {
   "display_name": "Python 3 (ipykernel)",
   "language": "python",
   "name": "python3"
  },
  "language_info": {
   "codemirror_mode": {
    "name": "ipython",
    "version": 3
   },
   "file_extension": ".py",
   "mimetype": "text/x-python",
   "name": "python",
   "nbconvert_exporter": "python",
   "pygments_lexer": "ipython3",
   "version": "3.11.7"
  }
 },
 "nbformat": 4,
 "nbformat_minor": 5
}

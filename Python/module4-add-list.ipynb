{
 "cells": [
  {
   "cell_type": "code",
   "execution_count": 1,
   "id": "3757ec34-de2e-4bcd-b7de-41ac1271f7a4",
   "metadata": {},
   "outputs": [
    {
     "name": "stdout",
     "output_type": "stream",
     "text": [
      "[7, 9, 5, 6, 8, 4]\n"
     ]
    }
   ],
   "source": [
    "book_ratings = [7, 9, 5, 6, 8]\n",
    "book_ratings.append(4)\n",
    "print(book_ratings)"
   ]
  },
  {
   "cell_type": "code",
   "execution_count": null,
   "id": "f08305c9-0d69-487b-b7c4-32a0769692a4",
   "metadata": {},
   "outputs": [],
   "source": []
  }
 ],
 "metadata": {
  "kernelspec": {
   "display_name": "Python 3 (ipykernel)",
   "language": "python",
   "name": "python3"
  },
  "language_info": {
   "codemirror_mode": {
    "name": "ipython",
    "version": 3
   },
   "file_extension": ".py",
   "mimetype": "text/x-python",
   "name": "python",
   "nbconvert_exporter": "python",
   "pygments_lexer": "ipython3",
   "version": "3.11.7"
  }
 },
 "nbformat": 4,
 "nbformat_minor": 5
}

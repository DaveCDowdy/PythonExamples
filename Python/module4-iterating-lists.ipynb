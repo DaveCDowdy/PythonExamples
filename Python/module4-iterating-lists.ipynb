{
 "cells": [
  {
   "cell_type": "code",
   "execution_count": 1,
   "id": "15225694-9be7-4ae4-b820-f5abe83574ca",
   "metadata": {},
   "outputs": [
    {
     "name": "stdout",
     "output_type": "stream",
     "text": [
      "Current city: CityOne\n",
      "Current city: CityTwo\n",
      "Current city: CityThree\n",
      "Current city: CityFour\n",
      "Current city: CityFive\n"
     ]
    }
   ],
   "source": [
    "top_cities = ['CityOne', 'CityTwo', 'CityThree', 'CityFour', 'CityFive']\n",
    "for city in top_cities:\n",
    "    print('Current city:', city)"
   ]
  },
  {
   "cell_type": "code",
   "execution_count": 4,
   "id": "89832d5f-ae67-42f8-888c-d690d243e2ff",
   "metadata": {},
   "outputs": [
    {
     "name": "stdout",
     "output_type": "stream",
     "text": [
      "Current index: 0 | Current city: CityOne\n",
      "Current index: 1 | Current city: CityTwo\n",
      "Current index: 2 | Current city: CityThree\n",
      "Current index: 3 | Current city: CityFour\n",
      "Current index: 4 | Current city: CityFive\n"
     ]
    }
   ],
   "source": [
    "top_cities = ['CityOne', 'CityTwo', 'CityThree', 'CityFour', 'CityFive']\n",
    "for city_index in range(len(top_cities)):\n",
    "    print('Current index:', city_index, '| Current city:', top_cities[city_index],)"
   ]
  },
  {
   "cell_type": "code",
   "execution_count": null,
   "id": "e1702858-a5da-496c-a06f-638147e28ceb",
   "metadata": {},
   "outputs": [],
   "source": [
    "spendings = [32.45, 28.65, 23.45, 78.32, 5.23]\n",
    "sum = 0.0\n",
    "for spending in spendings:\n",
    "    sum "
   ]
  }
 ],
 "metadata": {
  "kernelspec": {
   "display_name": "Python 3 (ipykernel)",
   "language": "python",
   "name": "python3"
  },
  "language_info": {
   "codemirror_mode": {
    "name": "ipython",
    "version": 3
   },
   "file_extension": ".py",
   "mimetype": "text/x-python",
   "name": "python",
   "nbconvert_exporter": "python",
   "pygments_lexer": "ipython3",
   "version": "3.11.7"
  }
 },
 "nbformat": 4,
 "nbformat_minor": 5
}

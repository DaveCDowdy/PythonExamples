{
 "cells": [
  {
   "cell_type": "code",
   "execution_count": 3,
   "id": "6f6212a4-2aba-487e-9910-815e1741b9ee",
   "metadata": {},
   "outputs": [],
   "source": [
    "def greet():\n",
    "    print('Hello my dear!')"
   ]
  },
  {
   "cell_type": "code",
   "execution_count": 4,
   "id": "359e4c18-5408-4fe3-9f3c-cfe1999bb340",
   "metadata": {},
   "outputs": [
    {
     "name": "stdout",
     "output_type": "stream",
     "text": [
      "Hello my dear!\n"
     ]
    }
   ],
   "source": [
    "greet()"
   ]
  },
  {
   "cell_type": "code",
   "execution_count": null,
   "id": "06553b84-872e-4696-861c-c5913095ebb8",
   "metadata": {},
   "outputs": [],
   "source": []
  }
 ],
 "metadata": {
  "kernelspec": {
   "display_name": "Python 3 (ipykernel)",
   "language": "python",
   "name": "python3"
  },
  "language_info": {
   "codemirror_mode": {
    "name": "ipython",
    "version": 3
   },
   "file_extension": ".py",
   "mimetype": "text/x-python",
   "name": "python",
   "nbconvert_exporter": "python",
   "pygments_lexer": "ipython3",
   "version": "3.11.7"
  }
 },
 "nbformat": 4,
 "nbformat_minor": 5
}

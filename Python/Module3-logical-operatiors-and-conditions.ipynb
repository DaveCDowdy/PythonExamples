{
 "cells": [
  {
   "cell_type": "code",
   "execution_count": null,
   "id": "d589b1dc-6627-4970-8534-ce5996c1c870",
   "metadata": {},
   "outputs": [],
   "source": [
    "'''\n",
    "    available logical operators\n",
    "    < less than\n",
    "    > greater than\n",
    "    <= less than or equal to\n",
    "    >= greater than or equal to\n",
    "    == equals always use == a single = is used for variable assignment == checks equality\n",
    "    != not equals\n",
    "'''"
   ]
  },
  {
   "cell_type": "code",
   "execution_count": 2,
   "id": "fbde7afd-f812-4d33-ad95-44203c938611",
   "metadata": {},
   "outputs": [
    {
     "name": "stdin",
     "output_type": "stream",
     "text": [
      "Do you know the secret password?  --secret\n"
     ]
    },
    {
     "name": "stdout",
     "output_type": "stream",
     "text": [
      "Correct password\n"
     ]
    }
   ],
   "source": [
    "password = input('Do you know the secret password? ')\n",
    "if password != '--secret' :\n",
    "    print('Not correct')\n",
    "else:\n",
    "    print('Correct password')"
   ]
  },
  {
   "cell_type": "code",
   "execution_count": 3,
   "id": "14c06c40-2c42-4b6c-ae73-2d6ee76d0a26",
   "metadata": {},
   "outputs": [
    {
     "name": "stdout",
     "output_type": "stream",
     "text": [
      "true\n"
     ]
    }
   ],
   "source": [
    "if 2 == 2 :\n",
    "    print('true')"
   ]
  },
  {
   "cell_type": "code",
   "execution_count": null,
   "id": "4ffe1fa1-9f3b-49bd-a932-f43c1d60de62",
   "metadata": {},
   "outputs": [],
   "source": [
    "if 1 == 2:"
   ]
  }
 ],
 "metadata": {
  "kernelspec": {
   "display_name": "Python 3 (ipykernel)",
   "language": "python",
   "name": "python3"
  },
  "language_info": {
   "codemirror_mode": {
    "name": "ipython",
    "version": 3
   },
   "file_extension": ".py",
   "mimetype": "text/x-python",
   "name": "python",
   "nbconvert_exporter": "python",
   "pygments_lexer": "ipython3",
   "version": "3.11.7"
  }
 },
 "nbformat": 4,
 "nbformat_minor": 5
}

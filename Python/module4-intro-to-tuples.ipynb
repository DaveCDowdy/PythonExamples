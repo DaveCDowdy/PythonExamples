{
 "cells": [
  {
   "cell_type": "code",
   "execution_count": 1,
   "id": "01259c64-23e2-43f9-a760-a95c3f74bd1d",
   "metadata": {},
   "outputs": [],
   "source": [
    "empty_tuple = ()"
   ]
  },
  {
   "cell_type": "code",
   "execution_count": 2,
   "id": "f5d3b878-d299-45b0-96aa-e24ed13c2266",
   "metadata": {},
   "outputs": [],
   "source": [
    "one_el_tuple_a = (1,)"
   ]
  },
  {
   "cell_type": "code",
   "execution_count": 3,
   "id": "920a4874-071f-417a-a514-849c09cbaa17",
   "metadata": {},
   "outputs": [],
   "source": [
    "one_el_tuple_b = 1,"
   ]
  },
  {
   "cell_type": "code",
   "execution_count": 4,
   "id": "3350e0c2-f1b6-4ad6-8bc9-c93020c50087",
   "metadata": {},
   "outputs": [],
   "source": [
    "three_el_tuple = 1, 2, 3"
   ]
  },
  {
   "cell_type": "code",
   "execution_count": 5,
   "id": "9884ab2f-6a79-472b-84ff-32d97afd7afa",
   "metadata": {},
   "outputs": [
    {
     "name": "stdout",
     "output_type": "stream",
     "text": [
      "(1, 2, 3)\n"
     ]
    }
   ],
   "source": [
    "print(three_el_tuple)"
   ]
  },
  {
   "cell_type": "code",
   "execution_count": 6,
   "id": "eebce114-de53-4738-a735-7e7c78e447b4",
   "metadata": {},
   "outputs": [],
   "source": [
    "# lists are mutable tuples are not"
   ]
  },
  {
   "cell_type": "code",
   "execution_count": null,
   "id": "4c677bce-ebc8-43d4-a6f1-8a4145b0d0e0",
   "metadata": {},
   "outputs": [],
   "source": []
  }
 ],
 "metadata": {
  "kernelspec": {
   "display_name": "Python 3 (ipykernel)",
   "language": "python",
   "name": "python3"
  },
  "language_info": {
   "codemirror_mode": {
    "name": "ipython",
    "version": 3
   },
   "file_extension": ".py",
   "mimetype": "text/x-python",
   "name": "python",
   "nbconvert_exporter": "python",
   "pygments_lexer": "ipython3",
   "version": "3.11.7"
  }
 },
 "nbformat": 4,
 "nbformat_minor": 5
}

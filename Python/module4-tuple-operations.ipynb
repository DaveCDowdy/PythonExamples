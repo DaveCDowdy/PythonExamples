{
 "cells": [
  {
   "cell_type": "code",
   "execution_count": 2,
   "id": "20d1b4e5-b78f-4cf5-a18f-aa9a56cf1ec5",
   "metadata": {},
   "outputs": [
    {
     "name": "stdout",
     "output_type": "stream",
     "text": [
      "3\n"
     ]
    }
   ],
   "source": [
    "user_data = ('john', 'American', 1964)\n",
    "print(len(user_data))"
   ]
  },
  {
   "cell_type": "code",
   "execution_count": 3,
   "id": "a0dc8679-41f4-41f8-b073-9060592db3d4",
   "metadata": {},
   "outputs": [
    {
     "name": "stdout",
     "output_type": "stream",
     "text": [
      "This person comes from the US!\n"
     ]
    }
   ],
   "source": [
    "user_data = ('john', 'American', 1964)\n",
    "if 'American' in user_data:\n",
    "    print('This person comes from the US!')"
   ]
  },
  {
   "cell_type": "code",
   "execution_count": 4,
   "id": "31e9c72c-8347-469e-a6b3-1aa98fd71fee",
   "metadata": {},
   "outputs": [
    {
     "name": "stdout",
     "output_type": "stream",
     "text": [
      "john\n",
      "American\n",
      "1964\n"
     ]
    }
   ],
   "source": [
    "user_data = ('john', 'American', 1964)\n",
    "for element in user_data:\n",
    "    print(element)"
   ]
  },
  {
   "cell_type": "code",
   "execution_count": 7,
   "id": "b1334d33-8aed-43e6-932e-b5e4c582c7bf",
   "metadata": {},
   "outputs": [
    {
     "name": "stdout",
     "output_type": "stream",
     "text": [
      "('john', 'American', 1964, 'teacher', 'male')\n"
     ]
    }
   ],
   "source": [
    "#creates a new tuple\n",
    "user_data = ('john', 'American', 1964) + ('teacher', 'male')\n",
    "print(user_data)"
   ]
  },
  {
   "cell_type": "code",
   "execution_count": 8,
   "id": "e804f958-495f-4f3a-bfca-0b6f1535e294",
   "metadata": {},
   "outputs": [
    {
     "name": "stdout",
     "output_type": "stream",
     "text": [
      "(0, 1, 0, 1, 0, 1, 0, 1, 0, 1, 0, 1, 0, 1, 0, 1, 0, 1, 0, 1)\n"
     ]
    }
   ],
   "source": [
    "numbers = (0, 1) * 10\n",
    "print(numbers)"
   ]
  },
  {
   "cell_type": "code",
   "execution_count": null,
   "id": "7a747757-0f97-4a29-9345-155a4dc41580",
   "metadata": {},
   "outputs": [],
   "source": []
  }
 ],
 "metadata": {
  "kernelspec": {
   "display_name": "Python 3 (ipykernel)",
   "language": "python",
   "name": "python3"
  },
  "language_info": {
   "codemirror_mode": {
    "name": "ipython",
    "version": 3
   },
   "file_extension": ".py",
   "mimetype": "text/x-python",
   "name": "python",
   "nbconvert_exporter": "python",
   "pygments_lexer": "ipython3",
   "version": "3.11.7"
  }
 },
 "nbformat": 4,
 "nbformat_minor": 5
}
